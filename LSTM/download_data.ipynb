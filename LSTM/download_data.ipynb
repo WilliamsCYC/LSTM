{
 "cells": [
  {
   "cell_type": "markdown",
   "id": "555dfb33",
   "metadata": {},
   "source": [
    "# Genarate data"
   ]
  },
  {
   "cell_type": "code",
   "execution_count": null,
   "id": "5a7814fc",
   "metadata": {},
   "outputs": [],
   "source": [
    "# import pandas as pd\n",
    "# import os\n",
    "# from mylibs.download_part import get_tushare_data, construct_and_process"
   ]
  },
  {
   "cell_type": "code",
   "execution_count": null,
   "id": "cfc3d95a",
   "metadata": {},
   "outputs": [],
   "source": [
    "# ts_code = '000858.SZ'"
   ]
  },
  {
   "cell_type": "code",
   "execution_count": null,
   "id": "368c3f06",
   "metadata": {},
   "outputs": [],
   "source": [
    "'''download raw data'''\n",
    "# df = get_tushare_data(ts_code)\n",
    "'''construct more features and process'''\n",
    "# df = construct_and_process(df, ts_code)"
   ]
  },
  {
   "cell_type": "code",
   "execution_count": null,
   "id": "3aa8599d",
   "metadata": {},
   "outputs": [],
   "source": [
    "'''store data for feature engineering'''\n",
    "# if not os.path.exists(f'data/{ts_code}'):\n",
    "#     os.makedirs(f'data/{ts_code}')\n",
    "# df.to_csv(f'./data/{ts_code}/basic_data.csv', index=False, sep=',')"
   ]
  },
  {
   "cell_type": "markdown",
   "id": "28b5cfdd",
   "metadata": {},
   "source": [
    "# Alternative datasets"
   ]
  },
  {
   "cell_type": "code",
   "execution_count": 3,
   "id": "6adb951a",
   "metadata": {},
   "outputs": [],
   "source": [
    "import pandas as pd\n",
    "from mylibs.download_part import push_back_to_trading_day, get_rating, get_forecast_price, generate_sentiment"
   ]
  },
  {
   "cell_type": "code",
   "execution_count": 4,
   "id": "4817a991",
   "metadata": {},
   "outputs": [],
   "source": [
    "ts_code = '000858.SZ'"
   ]
  },
  {
   "cell_type": "code",
   "execution_count": 5,
   "id": "4b9f2f31",
   "metadata": {},
   "outputs": [],
   "source": [
    "df = pd.read_csv(f'./data/{ts_code}/basic_data.csv', index_col='trade_date', parse_dates=True)"
   ]
  },
  {
   "cell_type": "markdown",
   "id": "7b363ab6",
   "metadata": {},
   "source": [
    "### Forecast rating CSMAR"
   ]
  },
  {
   "cell_type": "code",
   "execution_count": null,
   "id": "f95d10fa",
   "metadata": {},
   "outputs": [],
   "source": [
    "'''get analysts' rating''' \n",
    "rating = get_rating(ts_code, df)"
   ]
  },
  {
   "cell_type": "code",
   "execution_count": null,
   "id": "94574334",
   "metadata": {},
   "outputs": [],
   "source": [
    "rating.to_csv(f'./data/{ts_code}/rating.csv', sep=',', index=0)"
   ]
  },
  {
   "cell_type": "markdown",
   "id": "eee9f26f",
   "metadata": {},
   "source": [
    "### Forecast price CSMAR"
   ]
  },
  {
   "cell_type": "code",
   "execution_count": 6,
   "id": "2bfe66e1",
   "metadata": {},
   "outputs": [],
   "source": [
    "'''get analysts' forecast price'''\n",
    "forecast_price = get_forecast_price(ts_code, df)"
   ]
  },
  {
   "cell_type": "code",
   "execution_count": 7,
   "id": "5be2b984",
   "metadata": {},
   "outputs": [],
   "source": [
    "forecast_price.to_csv(f'./data/{ts_code}/forecast_price.csv', sep=',', index=0)"
   ]
  },
  {
   "cell_type": "markdown",
   "id": "93cf689b",
   "metadata": {},
   "source": [
    "### News"
   ]
  },
  {
   "cell_type": "code",
   "execution_count": null,
   "id": "2ed96494",
   "metadata": {},
   "outputs": [],
   "source": [
    "'''get news sentiment'''\n",
    "sentiment = generate_sentiment(ts_code, df)"
   ]
  },
  {
   "cell_type": "code",
   "execution_count": null,
   "id": "39894fea",
   "metadata": {
    "scrolled": false
   },
   "outputs": [],
   "source": [
    "sentiment.to_csv(f'./data/{ts_code}/sentiment.csv', sep=',', index=0)"
   ]
  }
 ],
 "metadata": {
  "kernelspec": {
   "display_name": "cemotion",
   "language": "python",
   "name": "cemotion"
  },
  "language_info": {
   "codemirror_mode": {
    "name": "ipython",
    "version": 3
   },
   "file_extension": ".py",
   "mimetype": "text/x-python",
   "name": "python",
   "nbconvert_exporter": "python",
   "pygments_lexer": "ipython3",
   "version": "3.9.15"
  },
  "varInspector": {
   "cols": {
    "lenName": 16,
    "lenType": 16,
    "lenVar": 40
   },
   "kernels_config": {
    "python": {
     "delete_cmd_postfix": "",
     "delete_cmd_prefix": "del ",
     "library": "var_list.py",
     "varRefreshCmd": "print(var_dic_list())"
    },
    "r": {
     "delete_cmd_postfix": ") ",
     "delete_cmd_prefix": "rm(",
     "library": "var_list.r",
     "varRefreshCmd": "cat(var_dic_list()) "
    }
   },
   "types_to_exclude": [
    "module",
    "function",
    "builtin_function_or_method",
    "instance",
    "_Feature"
   ],
   "window_display": false
  }
 },
 "nbformat": 4,
 "nbformat_minor": 5
}
