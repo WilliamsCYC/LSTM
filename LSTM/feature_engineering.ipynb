{
 "cells": [
  {
   "cell_type": "code",
   "execution_count": null,
   "id": "e1d2e6f6",
   "metadata": {},
   "outputs": [],
   "source": [
    "'''\n",
    "My tensorflow version:  2.5.0\n",
    "Is tensorflow-gpu available:  False\n",
    "My sklearn version:  0.24.2\n",
    "My numpy version:  1.19.5\n",
    "My pandas version:  1.2.0\n",
    "'''\n",
    "from mylibs.training_part import show_lib_version\n",
    "show_lib_version()"
   ]
  },
  {
   "cell_type": "markdown",
   "id": "13119304",
   "metadata": {},
   "source": [
    "### Retrive data for feature engineering"
   ]
  },
  {
   "cell_type": "code",
   "execution_count": null,
   "id": "0ea33578",
   "metadata": {},
   "outputs": [],
   "source": [
    "import numpy as np\n",
    "import pandas as pd"
   ]
  },
  {
   "cell_type": "code",
   "execution_count": null,
   "id": "e32bf108",
   "metadata": {},
   "outputs": [],
   "source": [
    "ts_code = '000858.SZ'"
   ]
  },
  {
   "cell_type": "code",
   "execution_count": null,
   "id": "d5dc3224",
   "metadata": {},
   "outputs": [],
   "source": [
    "df = pd.read_csv(f'./data/{ts_code}/basic_data.csv', index_col='trade_date', parse_dates=True)\n",
    "df['label'] = np.where(df['close'].shift(-1) > df['close'] * 1.00025, 1, 0)\n",
    "'''the last day has no label'''\n",
    "df = df[:-1]"
   ]
  },
  {
   "cell_type": "markdown",
   "id": "933c5366",
   "metadata": {},
   "source": [
    "### Heat map"
   ]
  },
  {
   "cell_type": "code",
   "execution_count": null,
   "id": "cb5fb5cc",
   "metadata": {},
   "outputs": [],
   "source": [
    "from mylibs.feature_engineering_part import heat_map"
   ]
  },
  {
   "cell_type": "code",
   "execution_count": null,
   "id": "d63168e1",
   "metadata": {
    "scrolled": false
   },
   "outputs": [],
   "source": [
    "heat_map(df)"
   ]
  },
  {
   "cell_type": "markdown",
   "id": "bd6ba1fc",
   "metadata": {},
   "source": [
    "### K-means"
   ]
  },
  {
   "cell_type": "code",
   "execution_count": null,
   "id": "68c466d2",
   "metadata": {
    "scrolled": false
   },
   "outputs": [],
   "source": [
    "import seaborn as sn\n",
    "from mylibs.feature_engineering_part import plot_inertia, get_clusters, random_choose_features, pca_k"
   ]
  },
  {
   "cell_type": "code",
   "execution_count": null,
   "id": "4f19030c",
   "metadata": {},
   "outputs": [],
   "source": [
    "'''use elbow method to decide how many features to choose using k means'''\n",
    "plot_inertia(df.drop('label', axis=1))"
   ]
  },
  {
   "cell_type": "code",
   "execution_count": null,
   "id": "e58a8f50",
   "metadata": {
    "scrolled": true
   },
   "outputs": [],
   "source": [
    "'''decide to use 20 clusters'''\n",
    "df_clusters = get_clusters(df.drop('label', axis=1), 20)"
   ]
  },
  {
   "cell_type": "markdown",
   "id": "033b55c1",
   "metadata": {},
   "source": [
    "### Random choice"
   ]
  },
  {
   "cell_type": "code",
   "execution_count": null,
   "id": "1174fb9f",
   "metadata": {
    "scrolled": false
   },
   "outputs": [],
   "source": [
    "'''random choose one feature from each cluster'''\n",
    "prediction_data_k_means_random_feature = random_choose_features(df, df_clusters)\n",
    "prediction_data_k_means_random_feature.dropna(axis=0, inplace=True)\n",
    "prediction_data_k_means_random_feature.to_csv(f'./data/{ts_code}/prediction_data_k_means_random_feature.csv', index=True, sep=',')"
   ]
  },
  {
   "cell_type": "code",
   "execution_count": null,
   "id": "824bc664",
   "metadata": {},
   "outputs": [],
   "source": [
    "heat_map(prediction_data_k_means_random_feature)"
   ]
  },
  {
   "cell_type": "code",
   "execution_count": null,
   "id": "832d4aa1",
   "metadata": {},
   "outputs": [],
   "source": [
    "prediction_data_k_means_random_feature = pd.merge(prediction_data_k_means_random_feature, df[['label']], how='left', \n",
    "                                                  left_index=True, right_index=True)\n",
    "sn.pairplot(prediction_data_k_means_random_feature, hue='label', palette='bright');"
   ]
  },
  {
   "cell_type": "markdown",
   "id": "fd9e8dfd",
   "metadata": {},
   "source": [
    "### do PCA in each cluster"
   ]
  },
  {
   "cell_type": "code",
   "execution_count": null,
   "id": "b6461e99",
   "metadata": {},
   "outputs": [],
   "source": [
    "'''use PCA method to decrease the dimension to one in each cluster'''\n",
    "prediction_data_k_pca = pca_k(df, df_clusters)\n",
    "prediction_data_k_pca.to_csv(f'./data/{ts_code}/prediction_data_k_pca.csv', index=True, sep=',')"
   ]
  },
  {
   "cell_type": "code",
   "execution_count": null,
   "id": "9f753a18",
   "metadata": {},
   "outputs": [],
   "source": [
    "prediction_data_k_pca = pd.DataFrame(prediction_data_k_pca.values, columns=[str(i) for i in range(len(prediction_data_k_pca.columns))],\n",
    "                                    index= prediction_data_k_pca.index)\n",
    "prediction_data_k_pca = pd.merge(prediction_data_k_pca, df[['label']], how='left', left_index=True, right_index=True)"
   ]
  },
  {
   "cell_type": "code",
   "execution_count": null,
   "id": "174f8147",
   "metadata": {
    "scrolled": false
   },
   "outputs": [],
   "source": [
    "heat_map(prediction_data_k_pca)"
   ]
  },
  {
   "cell_type": "code",
   "execution_count": null,
   "id": "0d56e41d",
   "metadata": {
    "scrolled": false
   },
   "outputs": [],
   "source": [
    "sn.pairplot(prediction_data_k_pca, hue='label', palette='bright');"
   ]
  }
 ],
 "metadata": {
  "kernelspec": {
   "display_name": "tensorflow",
   "language": "python",
   "name": "tensorflow"
  },
  "language_info": {
   "codemirror_mode": {
    "name": "ipython",
    "version": 3
   },
   "file_extension": ".py",
   "mimetype": "text/x-python",
   "name": "python",
   "nbconvert_exporter": "python",
   "pygments_lexer": "ipython3",
   "version": "3.9.16"
  }
 },
 "nbformat": 4,
 "nbformat_minor": 5
}
